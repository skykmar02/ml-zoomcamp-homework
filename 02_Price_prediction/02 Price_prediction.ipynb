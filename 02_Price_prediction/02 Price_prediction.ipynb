{
 "cells": [
  {
   "cell_type": "markdown",
   "id": "a9a2b004-716f-4c06-a5ed-908c51b604ed",
   "metadata": {},
   "source": [
    "# ML for Refgression\n"
   ]
  },
  {
   "cell_type": "code",
   "execution_count": 1,
   "id": "593128d9-ff20-47ad-b412-d0b4ac5916d5",
   "metadata": {},
   "outputs": [],
   "source": [
    "import pandas as pd\n",
    "import numpy as np"
   ]
  },
  {
   "cell_type": "markdown",
   "id": "8ce12fac-31aa-47ef-b562-94904fddb75e",
   "metadata": {},
   "source": [
    "# Data Preparation"
   ]
  },
  {
   "cell_type": "code",
   "execution_count": null,
   "id": "f7ab805f-c9bd-4bfc-b8e2-2131e5048535",
   "metadata": {},
   "outputs": [],
   "source": []
  }
 ],
 "metadata": {
  "kernelspec": {
   "display_name": "Python 3 (ipykernel)",
   "language": "python",
   "name": "python3"
  },
  "language_info": {
   "codemirror_mode": {
    "name": "ipython",
    "version": 3
   },
   "file_extension": ".py",
   "mimetype": "text/x-python",
   "name": "python",
   "nbconvert_exporter": "python",
   "pygments_lexer": "ipython3",
   "version": "3.12.1"
  }
 },
 "nbformat": 4,
 "nbformat_minor": 5
}
